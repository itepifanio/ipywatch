{
 "cells": [
  {
   "cell_type": "code",
   "execution_count": null,
   "id": "e8dcd736-dc1a-41b1-868e-ba87c175c549",
   "metadata": {},
   "outputs": [],
   "source": [
    "#| default_exp ipywatch"
   ]
  },
  {
   "cell_type": "markdown",
   "id": "50f735ae-a779-49e5-bb15-6236acdc9b36",
   "metadata": {},
   "source": [
    "# Ipywatch"
   ]
  },
  {
   "cell_type": "markdown",
   "id": "e11fde7d-c213-44be-b41e-04fe6961b260",
   "metadata": {},
   "source": [
    "Widget to watch comm events"
   ]
  },
  {
   "cell_type": "code",
   "execution_count": null,
   "id": "faaa1a37-6353-4563-960d-f74f778eacb8",
   "metadata": {},
   "outputs": [],
   "source": [
    "#| exporti\n",
    "from typing import Any, Callable, Optional\n",
    "\n",
    "import ipywidgets\n",
    "from comm.base_comm import BaseComm\n",
    "from ipywidgets.widgets import widget as widget_module\n",
    "from ipywidgets import HBox, Output, Layout\n",
    "\n",
    "from ipywatch.history import WidgetStateHistory"
   ]
  },
  {
   "cell_type": "code",
   "execution_count": null,
   "id": "de0af391-46d0-44a3-9554-64845997509c",
   "metadata": {},
   "outputs": [],
   "source": [
    "#| export\n",
    "class WidgetStateHistoryListener:\n",
    "    def __init__(\n",
    "        self,\n",
    "        history_size: int = 5,\n",
    "        on_state_change: Optional[Callable[[ipywidgets.Widget, Any], None]] = None\n",
    "    ):\n",
    "        self.history_size = history_size\n",
    "        self.history = WidgetStateHistory(history_size)\n",
    "        self.on_state_change = on_state_change\n",
    "\n",
    "        _original_send = BaseComm.send\n",
    "\n",
    "        def _patched_send(comm, data=None, metadata=None, buffers=None):\n",
    "            comm_id = comm.comm_id\n",
    "\n",
    "            widget = widget_module._instances.get(comm_id)\n",
    "\n",
    "            self.history.set_state(comm_id, data)\n",
    "\n",
    "            if self.on_state_change:\n",
    "                self.on_state_change(widget, data)\n",
    "\n",
    "            _original_send(comm, data, metadata, buffers)\n",
    "\n",
    "        BaseComm.send = _patched_send  # type: ignore"
   ]
  },
  {
   "cell_type": "code",
   "execution_count": null,
   "id": "7a0b40b1-d84c-4489-8819-94d6497b5855",
   "metadata": {},
   "outputs": [],
   "source": [
    "#| export\n",
    "class Ipywatch(HBox):\n",
    "    def __init__(self, width: str = '100%', height: str = '400px', history_size: int = 5, **kwargs):\n",
    "        self.updating = False  # Flag to prevent recursion\n",
    "        \n",
    "        self.listener = WidgetStateHistoryListener(history_size=history_size)\n",
    "\n",
    "        self.messages = Output(layout=dict(width='100%', height='400px'))\n",
    "\n",
    "        self.listener.on_state_change = self._on_state_change\n",
    "\n",
    "        super().__init__(\n",
    "            children=[self.messages],\n",
    "            layout=Layout(width=width, height=height)\n",
    "        )\n",
    "\n",
    "    def _on_state_change(self, widget, state):\n",
    "        if self.updating:\n",
    "            return\n",
    "\n",
    "        self.updating = True\n",
    "\n",
    "        widget_type = type(widget).__name__ if widget else \"Unknown\"\n",
    "        self.messages.append_stdout(f\"Event emitted by {widget_type}: {state}\\n\")\n",
    "\n",
    "        self.updating = False"
   ]
  },
  {
   "cell_type": "markdown",
   "id": "201b9f20-10f8-4d2e-8308-46284fd33288",
   "metadata": {},
   "source": [
    "## Usage example"
   ]
  },
  {
   "cell_type": "code",
   "execution_count": null,
   "id": "6fda28dc-8bfa-4582-b673-2aea8bcd88e4",
   "metadata": {},
   "outputs": [],
   "source": [
    "ipywatch = Ipywatch(width='100%', height='200px')\n",
    "slider = ipywidgets.IntSlider(value=7, min=0, max=10, step=1, description='Test Slider:')\n",
    "HBox([slider, ipywatch])"
   ]
  }
 ],
 "metadata": {
  "kernelspec": {
   "display_name": "Python 3 (ipykernel)",
   "language": "python",
   "name": "python3"
  }
 },
 "nbformat": 4,
 "nbformat_minor": 5
}

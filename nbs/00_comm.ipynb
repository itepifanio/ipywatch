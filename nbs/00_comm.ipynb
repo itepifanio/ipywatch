{
 "cells": [
  {
   "cell_type": "markdown",
   "metadata": {},
   "source": [
    "# Comm\n",
    "\n",
    "> Exploring [Comm API](https://jupyter-notebook.readthedocs.io/en/4.x/comms.html) to intersept their messages"
   ]
  },
  {
   "cell_type": "code",
   "execution_count": null,
   "metadata": {},
   "outputs": [],
   "source": [
    "import solara\n",
    "import ipywidgets as widgets\n",
    "\n",
    "import ipykernel\n",
    "from ipykernel.comm import Comm"
   ]
  },
  {
   "cell_type": "code",
   "execution_count": null,
   "metadata": {},
   "outputs": [
    {
     "data": {
      "application/vnd.jupyter.widget-view+json": {
       "model_id": "958c6ca38a444c4ab33cc750577e6a51",
       "version_major": 2,
       "version_minor": 0
      },
      "text/plain": [
       "IntSlider(value=7, description='Test Slider:', max=10)"
      ]
     },
     "metadata": {},
     "output_type": "display_data"
    }
   ],
   "source": [
    "from ipykernel.comm import Comm\n",
    "from IPython import get_ipython\n",
    "\n",
    "_original_send = Comm.send\n",
    "\n",
    "def _patched_send(self, data=None, metadata=None, buffers=None):\n",
    "    try:\n",
    "        widget = widgets.Widget.widgets.get(self.comm_id)\n",
    "        widget_type = type(widget).__name__ if widget else \"Unknown\"\n",
    "        print(f\"Comm message sent by {widget_type} ({self.comm_id}): {data}\")\n",
    "    except:\n",
    "        print(f\"Comm message sent by unknown widget ({self.comm_id}): {data}\")\n",
    "    _original_send(self, data, metadata, buffers)\n",
    "\n",
    "Comm.send = _patched_send"
   ]
  },
  {
   "cell_type": "code",
   "execution_count": null,
   "metadata": {},
   "outputs": [],
   "source": [
    "slider = widgets.IntSlider(value=7, min=0, max=10, step=1, description='Test Slider:')\n",
    "display(slider)"
   ]
  },
  {
   "cell_type": "code",
   "execution_count": null,
   "metadata": {},
   "outputs": [
    {
     "name": "stdout",
     "output_type": "stream",
     "text": [
      "Comm message sent by VBox (a182262bcad6402fb12ad0cfa0620898): {'method': 'update', 'state': {'children': ['IPY_MODEL_353c8460ac98451390b1293dd03fb349']}, 'buffer_paths': []}\n"
     ]
    },
    {
     "name": "stderr",
     "output_type": "stream",
     "text": [
      "/tmp/ipykernel_15337/3691898007.py:8: DeprecationWarning: Widget.widgets is deprecated.\n",
      "  widget = widgets.Widget.widgets.get(self.comm_id)\n"
     ]
    },
    {
     "data": {
      "application/vnd.jupyter.widget-view+json": {
       "model_id": "a182262bcad6402fb12ad0cfa0620898",
       "version_major": 2,
       "version_minor": 0
      },
      "text/html": [
       "Cannot show widget. You probably want to rerun the code cell above (<i>Click in the code cell, and press Shift+Enter <kbd>⇧</kbd>+<kbd>↩</kbd></i>)."
      ],
      "text/plain": [
       "Cannot show ipywidgets in text"
      ]
     },
     "metadata": {},
     "output_type": "display_data"
    }
   ],
   "source": [
    "int_value = solara.reactive(42)\n",
    "solara.SliderInt(\"Some integer\", value=int_value, min=-10, max=120)"
   ]
  }
 ],
 "metadata": {
  "kernelspec": {
   "display_name": "python3",
   "language": "python",
   "name": "python3"
  }
 },
 "nbformat": 4,
 "nbformat_minor": 4
}

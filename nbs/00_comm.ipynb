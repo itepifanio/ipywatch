{
 "cells": [
  {
   "cell_type": "markdown",
   "metadata": {},
   "source": [
    "# Comm\n",
    "\n",
    "> Exploring [Comm API](https://jupyter-notebook.readthedocs.io/en/4.x/comms.html) to intersept their messages"
   ]
  },
  {
   "cell_type": "code",
   "execution_count": null,
   "metadata": {},
   "outputs": [],
   "source": [
    "#| hide\n",
    "import solara\n",
    "import ipywidgets as widgets\n",
    "\n",
    "from ipykernel.comm import Comm"
   ]
  },
  {
   "cell_type": "markdown",
   "metadata": {},
   "source": [
    "[Ipykernel](https://github.com/ipython/ipykernel/tree/main) employs the `Comm` class for facilitating communication between the front-end and back-end. It builds on a [base Comm](https://github.com/ipython/comm/tree/main) implementation, which includes a `send` function for messaging the front-end. Monkey-patching this `send` function presents a direct approach to intercept `Comm` communications."
   ]
  },
  {
   "cell_type": "code",
   "execution_count": null,
   "metadata": {},
   "outputs": [],
   "source": [
    "_original_send = Comm.send\n",
    "\n",
    "def _patched_send(self, data=None, metadata=None, buffers=None):\n",
    "    widget = widgets.Widget.widgets.get(self.comm_id)\n",
    "    widget_type = type(widget).__name__ if widget else \"Unknown\"\n",
    "    print(f\"Comm message sent by {widget_type} ({self.comm_id}): {data}\")\n",
    "\n",
    "    _original_send(self, data, metadata, buffers)\n",
    "\n",
    "Comm.send = _patched_send"
   ]
  },
  {
   "cell_type": "markdown",
   "metadata": {},
   "source": [
    "## Testing\n",
    "\n",
    "The following cells displays ipywidgets and solara example of monitoring state changes. Interact with the following widgets to intercept its state changes."
   ]
  },
  {
   "cell_type": "code",
   "execution_count": null,
   "metadata": {},
   "outputs": [
    {
     "data": {
      "application/vnd.jupyter.widget-view+json": {
       "model_id": "994c3642550c42c39481c1930cf8a038",
       "version_major": 2,
       "version_minor": 0
      },
      "text/plain": [
       "IntSlider(value=7, description='Test Slider:', max=10)"
      ]
     },
     "metadata": {},
     "output_type": "display_data"
    }
   ],
   "source": [
    "slider = widgets.IntSlider(value=7, min=0, max=10, step=1, description='Test Slider:')\n",
    "display(slider)"
   ]
  },
  {
   "cell_type": "code",
   "execution_count": null,
   "metadata": {},
   "outputs": [
    {
     "name": "stdout",
     "output_type": "stream",
     "text": [
      "Comm message sent by VBox (9ba04b3acebb4e688f3395979a666d03): {'method': 'update', 'state': {'children': ['IPY_MODEL_9a3b850216e54b369dc4b482ab5a5104']}, 'buffer_paths': []}\n"
     ]
    },
    {
     "name": "stderr",
     "output_type": "stream",
     "text": [
      "/tmp/ipykernel_14614/897649624.py:4: DeprecationWarning: Widget.widgets is deprecated.\n",
      "  widget = widgets.Widget.widgets.get(self.comm_id)\n"
     ]
    },
    {
     "data": {
      "application/vnd.jupyter.widget-view+json": {
       "model_id": "9ba04b3acebb4e688f3395979a666d03",
       "version_major": 2,
       "version_minor": 0
      },
      "text/html": [
       "Cannot show widget. You probably want to rerun the code cell above (<i>Click in the code cell, and press Shift+Enter <kbd>⇧</kbd>+<kbd>↩</kbd></i>)."
      ],
      "text/plain": [
       "Cannot show ipywidgets in text"
      ]
     },
     "metadata": {},
     "output_type": "display_data"
    }
   ],
   "source": [
    "int_value = solara.reactive(42)\n",
    "solara.SliderInt(\"Another Test Slider:\", value=int_value, min=-10, max=120)"
   ]
  },
  {
   "cell_type": "code",
   "execution_count": null,
   "metadata": {},
   "outputs": [],
   "source": []
  }
 ],
 "metadata": {
  "kernelspec": {
   "display_name": "python3",
   "language": "python",
   "name": "python3"
  }
 },
 "nbformat": 4,
 "nbformat_minor": 4
}

{
 "cells": [
  {
   "cell_type": "markdown",
   "metadata": {},
   "source": [
    "# Comm\n",
    "\n",
    "> Exploring [Comm API](https://jupyter-notebook.readthedocs.io/en/4.x/comms.html) to intersept their messages"
   ]
  },
  {
   "cell_type": "code",
   "execution_count": null,
   "metadata": {},
   "outputs": [],
   "source": [
    "#| hide\n",
    "import solara\n",
    "import ipywidgets as widgets\n",
    "from ipywidgets.widgets import widget as widget_module\n",
    "from comm.base_comm import BaseComm"
   ]
  },
  {
   "cell_type": "markdown",
   "metadata": {},
   "source": [
    "[Ipykernel](https://github.com/ipython/ipykernel/tree/main) employs the `Comm` class for facilitating communication between the front-end and back-end. It builds on a [base Comm](https://github.com/ipython/comm/tree/main) implementation, which includes a `send` function for messaging the front-end. Monkey-patching this `send` function presents a direct approach to intercept `Comm` communications."
   ]
  },
  {
   "cell_type": "code",
   "execution_count": null,
   "metadata": {},
   "outputs": [],
   "source": [
    "_original_send = BaseComm.send\n",
    "\n",
    "def _patched_send(self, data=None, metadata=None, buffers=None):\n",
    "    widget = widget_module._instances.get(self.comm_id)\n",
    "    widget_type = type(widget).__name__ if widget else \"Unknown\"\n",
    "    print(f\"Comm message sent by {widget_type} ({self.comm_id}): {data}\")\n",
    "\n",
    "    _original_send(self, data, metadata, buffers)\n",
    "\n",
    "BaseComm.send = _patched_send"
   ]
  },
  {
   "cell_type": "markdown",
   "metadata": {},
   "source": [
    "## Testing\n",
    "\n",
    "The following cells displays ipywidgets and solara example of monitoring state changes. Interact with the following widgets to intercept its state changes."
   ]
  },
  {
   "cell_type": "code",
   "execution_count": null,
   "metadata": {},
   "outputs": [],
   "source": [
    "slider = widgets.IntSlider(value=7, min=0, max=10, step=1, description='Test Slider:')\n",
    "display(slider)"
   ]
  },
  {
   "cell_type": "code",
   "execution_count": null,
   "metadata": {},
   "outputs": [],
   "source": [
    "int_value = solara.reactive(42)\n",
    "solara.SliderInt(\"Another Test Slider:\", value=int_value, min=-10, max=120)"
   ]
  },
  {
   "cell_type": "code",
   "execution_count": null,
   "metadata": {},
   "outputs": [],
   "source": []
  }
 ],
 "metadata": {
  "kernelspec": {
   "display_name": "Python 3 (ipykernel)",
   "language": "python",
   "name": "python3"
  }
 },
 "nbformat": 4,
 "nbformat_minor": 4
}

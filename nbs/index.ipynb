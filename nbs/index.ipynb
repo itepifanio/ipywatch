{
 "cells": [
  {
   "cell_type": "markdown",
   "metadata": {},
   "source": [
    "# Ipywatch"
   ]
  },
  {
   "cell_type": "markdown",
   "metadata": {},
   "source": [
    "Welcome to the Ipywatch project a debugging solution for developers working with IPyWidgets, Reacton, and Solara. \n",
    "\n",
    "The lib monitors state changes at ipywidgets level by listening to the [Comm API](https://jupyter-notebook.readthedocs.io/en/4.x/comms.html)\n",
    "\n",
    "![Usage example](https://github.com/itepifanio/ipywatch/blob/main/assets/ipywatch.gif?raw=true)"
   ]
  },
  {
   "cell_type": "markdown",
   "metadata": {},
   "source": [
    "## Installing\n",
    "\n",
    "`pip install ipywatch`"
   ]
  }
 ],
 "metadata": {
  "kernelspec": {
   "display_name": "python3",
   "language": "python",
   "name": "python3"
  }
 },
 "nbformat": 4,
 "nbformat_minor": 4
}

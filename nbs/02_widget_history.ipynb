{
 "cells": [
  {
   "cell_type": "code",
   "execution_count": null,
   "id": "c6bc2197-18a4-4b3c-9124-9e8eb3eccbdb",
   "metadata": {},
   "outputs": [],
   "source": [
    "#| default_exp history"
   ]
  },
  {
   "cell_type": "markdown",
   "id": "06df2b84-4f6b-4933-bedb-971fea8d447e",
   "metadata": {},
   "source": [
    "# Widget history"
   ]
  },
  {
   "cell_type": "markdown",
   "id": "fa1e8874-8cfa-4d6c-8af6-75e7f4b71141",
   "metadata": {},
   "source": [
    "Store a fixed number of stored states in-memory"
   ]
  },
  {
   "cell_type": "code",
   "execution_count": null,
   "id": "c43c72ad-2594-4fa7-a905-b14db392c09e",
   "metadata": {},
   "outputs": [],
   "source": [
    "#| exporti\n",
    "from collections import deque\n",
    "from typing import Any, Dict, Iterator"
   ]
  },
  {
   "cell_type": "code",
   "execution_count": null,
   "id": "8ae746d4-240e-4ed7-9681-76b7a72af0bf",
   "metadata": {},
   "outputs": [],
   "source": [
    "#| export\n",
    "class WidgetStateHistory:\n",
    "    def __init__(self, history_size: int = 5):\n",
    "        self.history_size = history_size\n",
    "        self._widget_states: Dict[str, Any] = {}\n",
    "\n",
    "    def set_state(self, comm_id: str, state: Any):\n",
    "        if comm_id not in self._widget_states:\n",
    "            self._widget_states[comm_id] = deque(maxlen=self.history_size)\n",
    "\n",
    "        self._widget_states[comm_id].append(state)\n",
    "\n",
    "    def get_current_state(self, comm_id: str):\n",
    "        if comm_id in self._widget_states and self._widget_states[comm_id]:\n",
    "            return self._widget_states[comm_id][-1]\n",
    "\n",
    "        raise KeyError(f\"No state found for widget comm_id: {comm_id}\")\n",
    "\n",
    "    def get_state_history(self, comm_id: str) -> Any:\n",
    "        if comm_id in self._widget_states:\n",
    "            return self._widget_states[comm_id]\n",
    "\n",
    "        raise KeyError(f\"No history found for widget comm_id: {comm_id}\")\n",
    "\n",
    "    def __setitem__(self, comm_id: str, state: Any):\n",
    "        self.set_state(comm_id, state)\n",
    "\n",
    "    def __getitem__(self, comm_id: str):\n",
    "        return self.get_current_state(comm_id)\n",
    "\n",
    "    def __delitem__(self, comm_id: str):\n",
    "        if comm_id in self._widget_states:\n",
    "            del self._widget_states[comm_id]\n",
    "        else:\n",
    "            raise KeyError(f\"Comm ID {comm_id} not found\")\n",
    "\n",
    "    def __iter__(self) -> Iterator[str]:\n",
    "        return iter(self._widget_states)\n",
    "\n",
    "    def __len__(self) -> int:\n",
    "        return len(self._widget_states)"
   ]
  },
  {
   "cell_type": "code",
   "execution_count": null,
   "id": "323932aa-7412-4c70-9a1f-a3b313ad5139",
   "metadata": {},
   "outputs": [],
   "source": [
    "widget_states = WidgetStateHistory(history_size=5)\n",
    "\n",
    "widget_states[\"widget_1\"] = {\"value\": 10}\n",
    "widget_states[\"widget_1\"] = {\"value\": 20}\n",
    "assert len(widget_states) == 1\n",
    "assert widget_states['widget_1'] == {\"value\": 20}\n",
    "\n",
    "del widget_states[\"widget_1\"]    \n",
    "assert len(widget_states) == 0"
   ]
  }
 ],
 "metadata": {
  "kernelspec": {
   "display_name": "Python 3 (ipykernel)",
   "language": "python",
   "name": "python3"
  }
 },
 "nbformat": 4,
 "nbformat_minor": 5
}

{
 "cells": [
  {
   "cell_type": "markdown",
   "id": "11c101d7-19a4-4533-aa9c-d8c6d628fce0",
   "metadata": {},
   "source": [
    "# Reacton"
   ]
  },
  {
   "cell_type": "code",
   "execution_count": null,
   "id": "19d75793-c772-443d-9a46-aac84d944ef6",
   "metadata": {},
   "outputs": [],
   "source": [
    "#| hide\n",
    "from typing import Optional\n",
    "\n",
    "import solara\n",
    "import reacton as react\n",
    "import ipywidgets as widgets\n",
    "from reacton import ipywidgets as react_widgets\n",
    "from reacton.core import _RenderContext, ComponentContext, Element"
   ]
  },
  {
   "cell_type": "code",
   "execution_count": null,
   "id": "379fd278-80f0-4889-9390-ad2a0735ea39",
   "metadata": {},
   "outputs": [],
   "source": [
    "_original_render = _RenderContext.render\n",
    "\n",
    "def pre_render(self, element: Element, container: widgets.Widget = None):\n",
    "    print(f'pre_render::{self.state_get()} \\n\\n{element.component}\\n\\n{container if container is None else container.model_id}')\n",
    "\n",
    "def _patched_render(self, element: Element, container: widgets.Widget = None):\n",
    "    pre_render(self, element, container)\n",
    "    \n",
    "    _original_render(self, element, container)\n",
    "\n",
    "_RenderContext.render = _patched_render"
   ]
  },
  {
   "cell_type": "code",
   "execution_count": null,
   "id": "7c8fab2f-37d2-4c41-a0fa-c0a41ec4249e",
   "metadata": {},
   "outputs": [],
   "source": [
    "\"\"\"\n",
    "_original_state_get = _RenderContext.state_get\n",
    "_original_state_set = _RenderContext.state_set\n",
    "\n",
    "def _patched_state_get(self, context: Optional[ComponentContext] = None):\n",
    "    state = context.state if context is not None else context\n",
    "    print(f'_patched_state_get::{state}')\n",
    "\n",
    "    _original_state_get(self, context)\n",
    "\n",
    "def _patched_state_set(self, context: ComponentContext, state):\n",
    "    print(f'_patched_state_set::{state}')\n",
    "\n",
    "    _original_state_set(self, context, state)\n",
    "\n",
    "_RenderContext.state_get = _patched_state_get\n",
    "_RenderContext.state_set = _patched_state_set\n",
    "\"\"\""
   ]
  },
  {
   "cell_type": "markdown",
   "id": "9d112073-92ce-4571-9070-8dd51a89beb1",
   "metadata": {},
   "source": [
    "The following example was adapted from [reacton test suite](https://github.com/widgetti/reacton/blob/3eee8f7681d5aad8d56c284f0c76fb7e55f8d917/reacton/core_test.py#L1982). Patching `state_get` and `state_set` didn't seems to track the widget changes."
   ]
  },
  {
   "cell_type": "code",
   "execution_count": null,
   "id": "5f290cc7-2e9b-4a07-963e-33290c663c8c",
   "metadata": {},
   "outputs": [],
   "source": [
    "@react.component\n",
    "def Test():\n",
    "    value, set_value = react.use_state(0)\n",
    "    return react_widgets.IntSlider(value=value)\n",
    "\n",
    "slider, rc = react.render_fixed(Test())\n",
    "state = rc.state_get()\n",
    "box = widgets.VBox()\n",
    "hbox, rc = react.render(Test(), box, initial_state=state, handle_error=False)\n",
    "slider"
   ]
  },
  {
   "cell_type": "code",
   "execution_count": null,
   "id": "c7032c52-9035-405e-ac8b-5afdb986bd41",
   "metadata": {},
   "outputs": [],
   "source": [
    "int_value = solara.reactive(0)\n",
    "solara.SliderInt(\"Another Test Slider:\", value=int_value, min=0, max=10)"
   ]
  }
 ],
 "metadata": {
  "kernelspec": {
   "display_name": "python3",
   "language": "python",
   "name": "python3"
  }
 },
 "nbformat": 4,
 "nbformat_minor": 5
}

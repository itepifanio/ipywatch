{
 "cells": [
  {
   "cell_type": "markdown",
   "id": "11c101d7-19a4-4533-aa9c-d8c6d628fce0",
   "metadata": {},
   "source": [
    "# Reacton"
   ]
  },
  {
   "cell_type": "code",
   "execution_count": null,
   "id": "19d75793-c772-443d-9a46-aac84d944ef6",
   "metadata": {},
   "outputs": [],
   "source": [
    "#| hide\n",
    "\n",
    "import solara\n",
    "import ipywidgets as widgets\n",
    "from reacton.core import _RenderContext, Element"
   ]
  },
  {
   "cell_type": "markdown",
   "id": "e72c2232-af05-40ca-8250-b147590d7b75",
   "metadata": {},
   "source": [
    "Adding a `pre_render` hook to reacton codebase we're able to track each state change at component level. "
   ]
  },
  {
   "cell_type": "code",
   "execution_count": null,
   "id": "379fd278-80f0-4889-9390-ad2a0735ea39",
   "metadata": {},
   "outputs": [],
   "source": [
    "_original_render = _RenderContext.render\n",
    "\n",
    "def pre_render(self, element: Element, container: widgets.Widget = None):\n",
    "    print(f'state::{self.state_get()}\\n')\n",
    "    print(f'element: {element.component} --- {element.component.name}, {element.component.value_name}, {element.component.widget}\\n')\n",
    "    if container is not None:\n",
    "        print(f'model_id::{container.model_id}')\n",
    "\n",
    "def _patched_render(self, element: Element, container: widgets.Widget = None):\n",
    "    pre_render(self, element, container)\n",
    "    \n",
    "    _original_render(self, element, container)\n",
    "\n",
    "_RenderContext.render = _patched_render  # type: ignore"
   ]
  },
  {
   "cell_type": "markdown",
   "id": "9d112073-92ce-4571-9070-8dd51a89beb1",
   "metadata": {},
   "source": [
    "## Testing\n",
    "\n",
    "The following cells displays ipywidgets an solara example of monitoring state changes. Interact with the following widgets to intercept its state changes."
   ]
  },
  {
   "cell_type": "code",
   "execution_count": null,
   "id": "c7032c52-9035-405e-ac8b-5afdb986bd41",
   "metadata": {},
   "outputs": [],
   "source": [
    "int_value = solara.reactive(0)\n",
    "slider = solara.SliderInt(\"Another Test Slider:\", value=int_value, min=0, max=10)"
   ]
  }
 ],
 "metadata": {
  "kernelspec": {
   "display_name": "Python 3 (ipykernel)",
   "language": "python",
   "name": "python3"
  }
 },
 "nbformat": 4,
 "nbformat_minor": 5
}
